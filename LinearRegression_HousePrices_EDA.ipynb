{
 "cells": [
  {
   "cell_type": "markdown",
   "id": "d32a5aa1",
   "metadata": {},
   "source": [
    "# 🏠 Predicting House Prices with Linear Regression\n",
    "---\n",
    "**Objective**: Build a linear regression model to predict house prices based on selected features."
   ]
  },
  {
   "cell_type": "code",
   "execution_count": null,
   "id": "81fe4e65",
   "metadata": {},
   "outputs": [],
   "source": [
    "import pandas as pd\n",
    "import numpy as np\n",
    "import matplotlib.pyplot as plt\n",
    "import seaborn as sns\n",
    "from sklearn.linear_model import LinearRegression\n",
    "from sklearn.model_selection import train_test_split\n",
    "from sklearn.metrics import mean_squared_error, r2_score\n",
    "\n",
    "# Display settings\n",
    "pd.set_option('display.max_columns', None)\n",
    "sns.set(style='whitegrid')"
   ]
  },
  {
   "cell_type": "markdown",
   "id": "9862b2df",
   "metadata": {},
   "source": [
    "## 📥 Load the Dataset"
   ]
  },
  {
   "cell_type": "code",
   "execution_count": null,
   "id": "59fa238d",
   "metadata": {},
   "outputs": [],
   "source": [
    "# Load your dataset\n",
    "# Replace 'house_prices.csv' with your dataset filename\n",
    "df = pd.read_csv('house_prices.csv')\n",
    "\n",
    "# Display basic info\n",
    "df.head()"
   ]
  },
  {
   "cell_type": "markdown",
   "id": "6c98c8ad",
   "metadata": {},
   "source": [
    "## 🧼 Data Cleaning"
   ]
  },
  {
   "cell_type": "code",
   "execution_count": null,
   "id": "8360c16d",
   "metadata": {},
   "outputs": [],
   "source": [
    "# Check for missing values\n",
    "df.isnull().sum().sort_values(ascending=False).head(10)"
   ]
  },
  {
   "cell_type": "code",
   "execution_count": null,
   "id": "9eb639b5",
   "metadata": {},
   "outputs": [],
   "source": [
    "# Drop rows with missing values (basic approach)\n",
    "df = df.dropna()\n",
    "\n",
    "# Drop ID column if present\n",
    "if 'Id' in df.columns:\n",
    "    df = df.drop(['Id'], axis=1)\n",
    "df.head()"
   ]
  },
  {
   "cell_type": "markdown",
   "id": "05c71167",
   "metadata": {},
   "source": [
    "## 📊 Feature Selection"
   ]
  },
  {
   "cell_type": "code",
   "execution_count": null,
   "id": "f7a64b7c",
   "metadata": {},
   "outputs": [],
   "source": [
    "# Use one or more relevant features\n",
    "X = df[['GrLivArea']]  # Example feature\n",
    "y = df['SalePrice']     # Target variable"
   ]
  },
  {
   "cell_type": "markdown",
   "id": "ac960747",
   "metadata": {},
   "source": [
    "## 🔀 Train-Test Split"
   ]
  },
  {
   "cell_type": "code",
   "execution_count": null,
   "id": "c8f6dfa1",
   "metadata": {},
   "outputs": [],
   "source": [
    "X_train, X_test, y_train, y_test = train_test_split(X, y, test_size=0.2, random_state=42)"
   ]
  },
  {
   "cell_type": "markdown",
   "id": "efa519d9",
   "metadata": {},
   "source": [
    "## 🤖 Model Training"
   ]
  },
  {
   "cell_type": "code",
   "execution_count": null,
   "id": "a1a65991",
   "metadata": {},
   "outputs": [],
   "source": [
    "model = LinearRegression()\n",
    "model.fit(X_train, y_train)"
   ]
  },
  {
   "cell_type": "markdown",
   "id": "6a5e11eb",
   "metadata": {},
   "source": [
    "## 📈 Model Evaluation"
   ]
  },
  {
   "cell_type": "code",
   "execution_count": null,
   "id": "46ed213c",
   "metadata": {},
   "outputs": [],
   "source": [
    "y_pred = model.predict(X_test)\n",
    "\n",
    "print('Mean Squared Error:', mean_squared_error(y_test, y_pred))\n",
    "print('R² Score:', r2_score(y_test, y_pred))"
   ]
  },
  {
   "cell_type": "markdown",
   "id": "507e63c6",
   "metadata": {},
   "source": [
    "## 📉 Visualization: Actual vs Predicted"
   ]
  },
  {
   "cell_type": "code",
   "execution_count": null,
   "id": "3b3a2bea",
   "metadata": {},
   "outputs": [],
   "source": [
    "plt.figure(figsize=(8,6))\n",
    "plt.scatter(y_test, y_pred, alpha=0.6, color='b')\n",
    "plt.xlabel(\"Actual Prices\")\n",
    "plt.ylabel(\"Predicted Prices\")\n",
    "plt.title(\"Actual vs Predicted House Prices\")\n",
    "plt.grid(True)\n",
    "plt.show()"
   ]
  }
 ],
 "metadata": {
  "kernelspec": {
   "display_name": "Python 3",
   "language": "python",
   "name": "python3"
  },
  "language_info": {
   "codemirror_mode": {
    "name": "ipython",
    "version": 3
   },
   "file_extension": ".py",
   "mimetype": "text/x-python",
   "name": "python",
   "nbconvert_exporter": "python",
   "pygments_lexer": "ipython3",
   "version": "3.11.9"
  }
 },
 "nbformat": 4,
 "nbformat_minor": 5
}
